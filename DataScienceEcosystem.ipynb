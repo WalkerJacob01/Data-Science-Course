{
 "cells": [
  {
   "cell_type": "markdown",
   "id": "dd3d97fa-bfa4-408b-8913-f237797669ce",
   "metadata": {
    "tags": []
   },
   "source": [
    "# Data Science Tools and Ecosystem apply"
   ]
  },
  {
   "cell_type": "markdown",
   "id": "0d28f374-9851-47ea-9020-1af2af8a8692",
   "metadata": {
    "tags": []
   },
   "source": [
    "## In this notebook, Data Science Tools and Ecosystem are summarized."
   ]
  },
  {
   "cell_type": "markdown",
   "id": "bface45a-d10e-4e07-b1ff-2a3758e14e66",
   "metadata": {
    "tags": []
   },
   "source": [
    "### **Objectives:**\n",
    "- List popular languages for Data Science\n",
    "- Data science tools\n",
    "- Arithmetic expressions in Python"
   ]
  },
  {
   "cell_type": "markdown",
   "id": "3fa846d5-a8b3-4fd7-a277-6c188ffc2b18",
   "metadata": {
    "tags": []
   },
   "source": [
    "### Some of the popular languages that Data Scientists use are:\n",
    "1. Python\n",
    "2. R\n",
    "3. Jupyter Notebook\n"
   ]
  },
  {
   "cell_type": "markdown",
   "id": "c87a5bf0-9e11-4aa8-ab7c-ffca4b93c508",
   "metadata": {},
   "source": [
    "| Data Science Tools |\n",
    "| ----- |\n",
    "| Jupter NoteBook |\n",
    "| Tensor Flow |\n",
    "| Sclkit-learn |"
   ]
  },
  {
   "cell_type": "markdown",
   "id": "f6a3bb8e-6d32-413b-882d-b48b1f9626c8",
   "metadata": {},
   "source": [
    "### Below are a few examples of evaluating arithmetic expressions in Python.\n"
   ]
  },
  {
   "cell_type": "markdown",
   "id": "34e2e881-45ff-4804-8edd-f12e5da2fd81",
   "metadata": {},
   "source": [
    "#### This a simple arithmetic expression to mutiply then add integers"
   ]
  },
  {
   "cell_type": "code",
   "execution_count": 30,
   "id": "48af1625-9e01-4c62-b0f2-71372812c078",
   "metadata": {
    "tags": []
   },
   "outputs": [
    {
     "data": {
      "text/plain": [
       "17"
      ]
     },
     "execution_count": 30,
     "metadata": {},
     "output_type": "execute_result"
    }
   ],
   "source": [
    "(3*4)+5"
   ]
  },
  {
   "cell_type": "markdown",
   "id": "6e9ddfc2-61df-464c-8259-4216e7e4f717",
   "metadata": {
    "tags": []
   },
   "source": [
    "## Author \n",
    "Jacob Walker"
   ]
  }
 ],
 "metadata": {
  "kernelspec": {
   "display_name": "Python",
   "language": "python",
   "name": "conda-env-python-py"
  },
  "language_info": {
   "codemirror_mode": {
    "name": "ipython",
    "version": 3
   },
   "file_extension": ".py",
   "mimetype": "text/x-python",
   "name": "python",
   "nbconvert_exporter": "python",
   "pygments_lexer": "ipython3",
   "version": "3.7.12"
  }
 },
 "nbformat": 4,
 "nbformat_minor": 5
}
